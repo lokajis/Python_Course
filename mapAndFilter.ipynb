{
 "cells": [
  {
   "cell_type": "code",
   "execution_count": 9,
   "metadata": {},
   "outputs": [
    {
     "name": "stdout",
     "output_type": "stream",
     "text": [
      "['ells', 'zegovini', 'moldavia', 'slovakia', 'afstralia'] [True, True, True, True, True, False, False, False, False]\n"
     ]
    }
   ],
   "source": [
    "lista = ['ells','zegovini','moldavia', 'slovakia','afstralia',7898,789789,655,1]\n",
    "\n",
    "\n",
    "def isString (x):\n",
    "    return type(x) == str\n",
    "\n",
    "a = list(filter(isString, lista))\n",
    "b = list(map(isString, lista))\n",
    "print(a , b )"
   ]
  }
 ],
 "metadata": {
  "kernelspec": {
   "display_name": "data_analysis_course",
   "language": "python",
   "name": "python3"
  },
  "language_info": {
   "codemirror_mode": {
    "name": "ipython",
    "version": 3
   },
   "file_extension": ".py",
   "mimetype": "text/x-python",
   "name": "python",
   "nbconvert_exporter": "python",
   "pygments_lexer": "ipython3",
   "version": "3.12.4"
  }
 },
 "nbformat": 4,
 "nbformat_minor": 2
}
