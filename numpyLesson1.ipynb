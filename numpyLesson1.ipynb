{
 "cells": [
  {
   "cell_type": "code",
   "execution_count": 6,
   "metadata": {},
   "outputs": [
    {
     "data": {
      "text/plain": [
       "array([4, 5, 6, 7, 8, 9])"
      ]
     },
     "execution_count": 6,
     "metadata": {},
     "output_type": "execute_result"
    }
   ],
   "source": [
    "import numpy as np\n",
    "\n",
    "list1 = [1,2,3,4,5]\n",
    "\n",
    "x = np.array(list1)\n",
    "\n",
    "type(x)\n",
    "array1d = np.array(list1)\n",
    "array2d = np.array([[1,2,3],[4,5,6],[7,8,9]])\n",
    "\n",
    "array2d[array2d > 3]\n",
    "\n",
    "\n",
    "\n"
   ]
  },
  {
   "cell_type": "markdown",
   "metadata": {},
   "source": [
    "<!-- reshaping arrays -->"
   ]
  },
  {
   "cell_type": "code",
   "execution_count": 8,
   "metadata": {},
   "outputs": [
    {
     "data": {
      "text/plain": [
       "array([ 1,  2,  3,  4,  5,  6,  7,  7,  8,  9,  0, 10])"
      ]
     },
     "execution_count": 8,
     "metadata": {},
     "output_type": "execute_result"
    }
   ],
   "source": [
    "# reshaping arrays\n",
    "# make a 1d 2d\n",
    "array1 = np.array([1,2,3,4,5,6,7,7,8,9,0,10])\n",
    "np.reshape(array1,(3,4))\n",
    "\n",
    "#make a 2d 1d \n",
    "\n",
    "np.ndarray.flatten(array2d)\n",
    "np.ravel(array2d)\n",
    "# concatenate arrays\n",
    "\n",
    "# np.concatenate((array1d,array2d), axis= 1)\n",
    "\n",
    "np.transpose(array1)\n",
    "\n",
    "\n"
   ]
  },
  {
   "cell_type": "code",
   "execution_count": 18,
   "metadata": {},
   "outputs": [
    {
     "data": {
      "text/plain": [
       "np.float64(9740.107235227775)"
      ]
     },
     "execution_count": 18,
     "metadata": {},
     "output_type": "execute_result"
    }
   ],
   "source": [
    "x = np.loadtxt('/home/lokajis/files/Alexandros/pithinas/Course+Resurces-Python+for+Data+Analysis+and+Visualization/Course Resurces-Python for Data Analysis and Visualization/07 NumPy/6 IO Functions/tfl-daily-cycle-hires.txt', delimiter=',', usecols=(1), skiprows=1)\n",
    "np.count_nonzero(x,)\n",
    "\n",
    "# max no of bikes hired in a day\n",
    "x.max()\n",
    "# minimum bikes hired in a day in uk \n",
    "x.min()\n",
    "# average nomber of bikes hired in a day\n",
    "x.mean()\n",
    "# standart diviation \n",
    "x.std()"
   ]
  }
 ],
 "metadata": {
  "kernelspec": {
   "display_name": "data_analysis_course",
   "language": "python",
   "name": "python3"
  },
  "language_info": {
   "codemirror_mode": {
    "name": "ipython",
    "version": 3
   },
   "file_extension": ".py",
   "mimetype": "text/x-python",
   "name": "python",
   "nbconvert_exporter": "python",
   "pygments_lexer": "ipython3",
   "version": "3.12.4"
  }
 },
 "nbformat": 4,
 "nbformat_minor": 2
}
