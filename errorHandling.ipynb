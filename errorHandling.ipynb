{
 "cells": [
  {
   "cell_type": "code",
   "execution_count": 9,
   "metadata": {},
   "outputs": [
    {
     "name": "stdout",
     "output_type": "stream",
     "text": [
      "10000000.0\n",
      "this will alsways print\n"
     ]
    }
   ],
   "source": [
    "try:\n",
    "    print(100/0.00001)\n",
    "except :\n",
    "    print(\"error\")    \n",
    "finally:\n",
    "    print('this will alsways print')    "
   ]
  }
 ],
 "metadata": {
  "kernelspec": {
   "display_name": "data_analysis_course",
   "language": "python",
   "name": "python3"
  },
  "language_info": {
   "codemirror_mode": {
    "name": "ipython",
    "version": 3
   },
   "file_extension": ".py",
   "mimetype": "text/x-python",
   "name": "python",
   "nbconvert_exporter": "python",
   "pygments_lexer": "ipython3",
   "version": "3.12.4"
  }
 },
 "nbformat": 4,
 "nbformat_minor": 2
}
